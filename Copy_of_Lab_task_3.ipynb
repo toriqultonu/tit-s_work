{
  "nbformat": 4,
  "nbformat_minor": 0,
  "metadata": {
    "colab": {
      "name": "Copy of Lab-task-3.ipynb",
      "provenance": [],
      "collapsed_sections": [],
      "authorship_tag": "ABX9TyPpFXOIpCQw81vL35AVG8i6",
      "include_colab_link": true
    },
    "kernelspec": {
      "name": "python3",
      "display_name": "Python 3"
    },
    "language_info": {
      "name": "python"
    }
  },
  "cells": [
    {
      "cell_type": "markdown",
      "metadata": {
        "id": "view-in-github",
        "colab_type": "text"
      },
      "source": [
        "<a href=\"https://colab.research.google.com/github/toriqultonu/tit-s_work/blob/master/Copy_of_Lab_task_3.ipynb\" target=\"_parent\"><img src=\"https://colab.research.google.com/assets/colab-badge.svg\" alt=\"Open In Colab\"/></a>"
      ]
    },
    {
      "cell_type": "code",
      "metadata": {
        "colab": {
          "base_uri": "https://localhost:8080/"
        },
        "id": "j33yY9eLQS_d",
        "outputId": "64d4611d-6c6a-4135-e7c4-4696e2f8d0aa"
      },
      "source": [
        "!pip install pyformlang"
      ],
      "execution_count": null,
      "outputs": [
        {
          "output_type": "stream",
          "text": [
            "Collecting pyformlang\n",
            "\u001b[?25l  Downloading https://files.pythonhosted.org/packages/df/24/943558e56017cedf9608feb0c1af11fbd1814644233f81b71fbf8f7423aa/pyformlang-0.1.24-py3-none-any.whl (109kB)\n",
            "\r\u001b[K     |███                             | 10kB 13.9MB/s eta 0:00:01\r\u001b[K     |██████                          | 20kB 19.3MB/s eta 0:00:01\r\u001b[K     |█████████                       | 30kB 17.1MB/s eta 0:00:01\r\u001b[K     |████████████                    | 40kB 14.7MB/s eta 0:00:01\r\u001b[K     |███████████████                 | 51kB 8.0MB/s eta 0:00:01\r\u001b[K     |██████████████████              | 61kB 9.3MB/s eta 0:00:01\r\u001b[K     |█████████████████████           | 71kB 7.9MB/s eta 0:00:01\r\u001b[K     |████████████████████████        | 81kB 8.8MB/s eta 0:00:01\r\u001b[K     |███████████████████████████     | 92kB 8.9MB/s eta 0:00:01\r\u001b[K     |██████████████████████████████  | 102kB 7.6MB/s eta 0:00:01\r\u001b[K     |████████████████████████████████| 112kB 7.6MB/s \n",
            "\u001b[?25hRequirement already satisfied: pydot in /usr/local/lib/python3.7/dist-packages (from pyformlang) (1.3.0)\n",
            "Requirement already satisfied: networkx in /usr/local/lib/python3.7/dist-packages (from pyformlang) (2.5.1)\n",
            "Requirement already satisfied: numpy in /usr/local/lib/python3.7/dist-packages (from pyformlang) (1.19.5)\n",
            "Requirement already satisfied: pyparsing>=2.1.4 in /usr/local/lib/python3.7/dist-packages (from pydot->pyformlang) (2.4.7)\n",
            "Requirement already satisfied: decorator<5,>=4.3 in /usr/local/lib/python3.7/dist-packages (from networkx->pyformlang) (4.4.2)\n",
            "Installing collected packages: pyformlang\n",
            "Successfully installed pyformlang-0.1.24\n"
          ],
          "name": "stdout"
        }
      ]
    },
    {
      "cell_type": "code",
      "metadata": {
        "colab": {
          "base_uri": "https://localhost:8080/"
        },
        "id": "BQVEUqgkQb12",
        "outputId": "86275ce4-e8e2-4bc6-99e9-351e80a0153f"
      },
      "source": [
        "import re\n",
        "from pyformlang.finite_automaton import DeterministicFiniteAutomaton,State,Symbol \n",
        "from pyformlang.regular_expression import regex\n",
        "dfa=DeterministicFiniteAutomaton()\n",
        "state_a= State(1)\n",
        "state_b= State(2)\n",
        "state_c= State(3)\n",
        "sym_0 = Symbol('0')\n",
        "sym_1= Symbol('1')\n",
        "\n",
        "dfa.add_start_state(state_a)\n",
        "dfa.add_final_state(state_c)\n",
        "dfa.add_transition(state_a, sym_0, state_b)\n",
        "dfa.add_transition(state_a, sym_1, state_c)\n",
        "dfa.add_transition(state_b, sym_0, state_a)\n",
        "dfa.add_transition(state_b, sym_1, state_c)\n",
        "dfa.add_transition(state_c, sym_0, state_b)\n",
        "dfa.add_transition(state_c, sym_1, state_a)\n",
        "\n",
        "print(dfa.is_deterministic())\n",
        "print(dfa.to_regex())"
      ],
      "execution_count": null,
      "outputs": [
        {
          "output_type": "stream",
          "text": [
            "True\n",
            "((((0.0)|(((0.1)|1).(((0.1))*.((0.0)|1)))))*.(((0.1)|1).((0.1))*))\n"
          ],
          "name": "stdout"
        }
      ]
    }
  ]
}