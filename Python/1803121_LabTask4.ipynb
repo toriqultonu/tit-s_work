{
  "nbformat": 4,
  "nbformat_minor": 0,
  "metadata": {
    "colab": {
      "name": "1803121_LabTask4.ipynb",
      "provenance": [],
      "authorship_tag": "ABX9TyPRQQZ6O9rSma/3imE94yOI",
      "include_colab_link": true
    },
    "kernelspec": {
      "name": "python3",
      "display_name": "Python 3"
    },
    "language_info": {
      "name": "python"
    }
  },
  "cells": [
    {
      "cell_type": "markdown",
      "metadata": {
        "id": "view-in-github",
        "colab_type": "text"
      },
      "source": [
        "<a href=\"https://colab.research.google.com/github/toriqultonu/tit-s_work/blob/master/1803121_LabTask4.ipynb\" target=\"_parent\"><img src=\"https://colab.research.google.com/assets/colab-badge.svg\" alt=\"Open In Colab\"/></a>"
      ]
    },
    {
      "cell_type": "code",
      "metadata": {
        "colab": {
          "base_uri": "https://localhost:8080/"
        },
        "id": "j33yY9eLQS_d",
        "outputId": "de51d0eb-4c5d-4df9-e723-1be7a1533006"
      },
      "source": [
        "!pip install pyformlang"
      ],
      "execution_count": 2,
      "outputs": [
        {
          "output_type": "stream",
          "text": [
            "Collecting pyformlang\n",
            "\u001b[?25l  Downloading https://files.pythonhosted.org/packages/8a/6a/8fe2e94dc4d168e03619290086335fdf477925ed25ce80d0eff3981d3041/pyformlang-0.1.25-py3-none-any.whl (109kB)\n",
            "\r\u001b[K     |███                             | 10kB 14.2MB/s eta 0:00:01\r\u001b[K     |██████                          | 20kB 19.9MB/s eta 0:00:01\r\u001b[K     |█████████                       | 30kB 24.1MB/s eta 0:00:01\r\u001b[K     |████████████                    | 40kB 27.3MB/s eta 0:00:01\r\u001b[K     |███████████████                 | 51kB 23.2MB/s eta 0:00:01\r\u001b[K     |██████████████████              | 61kB 22.6MB/s eta 0:00:01\r\u001b[K     |█████████████████████           | 71kB 22.3MB/s eta 0:00:01\r\u001b[K     |████████████████████████        | 81kB 23.6MB/s eta 0:00:01\r\u001b[K     |███████████████████████████     | 92kB 23.0MB/s eta 0:00:01\r\u001b[K     |██████████████████████████████  | 102kB 24.3MB/s eta 0:00:01\r\u001b[K     |████████████████████████████████| 112kB 24.3MB/s \n",
            "\u001b[?25hRequirement already satisfied: numpy in /usr/local/lib/python3.7/dist-packages (from pyformlang) (1.19.5)\n",
            "Requirement already satisfied: pydot in /usr/local/lib/python3.7/dist-packages (from pyformlang) (1.3.0)\n",
            "Requirement already satisfied: networkx in /usr/local/lib/python3.7/dist-packages (from pyformlang) (2.5.1)\n",
            "Requirement already satisfied: pyparsing>=2.1.4 in /usr/local/lib/python3.7/dist-packages (from pydot->pyformlang) (2.4.7)\n",
            "Requirement already satisfied: decorator<5,>=4.3 in /usr/local/lib/python3.7/dist-packages (from networkx->pyformlang) (4.4.2)\n",
            "Installing collected packages: pyformlang\n",
            "Successfully installed pyformlang-0.1.25\n"
          ],
          "name": "stdout"
        }
      ]
    },
    {
      "cell_type": "code",
      "metadata": {
        "colab": {
          "base_uri": "https://localhost:8080/",
          "height": 265
        },
        "id": "bTheWKb6M7SX",
        "outputId": "904b673c-e73e-44aa-a73e-f5aa543c0d9f"
      },
      "source": [
        "from pyformlang.cfg import Production, Variable, Terminal, CFG, Epsilon\n",
        "\n",
        "# Creation of variables\n",
        "var_E = Variable(\"E\")\n",
        "var_F = Variable(\"F\")\n",
        "\n",
        "# Creation of terminals\n",
        "ter_a = Terminal(\"a\")\n",
        "ter_b = Terminal(\"b\")\n",
        "ter_0 = Terminal(\"0\")\n",
        "ter_1 = Terminal(\"1\")\n",
        "ter_efcl = Terminal(Epsilon())\n",
        "ter_plus = Terminal(\"+\")\n",
        "ter_mul = Terminal(\"*\")\n",
        "ter_opnB = Terminal(\"(\")\n",
        "ter_clsB = Terminal(\")\")\n",
        "\n",
        "# Creation of productions\n",
        "p0 = Production(var_E, [var_E, ter_plus, var_E])\n",
        "p1 = Production(var_E, [var_E, ter_mul, var_E])\n",
        "p2 = Production(var_E, [ter_opnB, var_E, ter_clsB])\n",
        "p3 = Production(var_E, [var_F])\n",
        "p4 = Production(var_F, [ter_a, var_F])\n",
        "p5 = Production(var_F, [ter_b, var_F])\n",
        "p6 = Production(var_F, [ter_0, var_F])\n",
        "p7 = Production(var_F, [ter_1, var_F])\n",
        "p8 = Production(var_F, [ter_efcl])\n",
        "p9 = Production(var_F, [ter_a])\n",
        "p10 = Production(var_F, [ter_b])\n",
        "p11 = Production(var_F, [ter_1])\n",
        "p12 = Production(var_F, [ter_0])\n",
        "# Creation of the CFG\n",
        "cfg = CFG({var_E, var_F}, {ter_a, ter_b, ter_0, ter_1, ter_efcl, ter_plus, ter_mul, ter_opnB, ter_clsB}, var_E, {p0, p1, p2, p3, p4, p5, p6, p7, p8, p9, p10, p11, p12})\n",
        "# Check for containment\n",
        "cfg.contains([ter_a, ter_mul, ter_opnB, ter_a, ter_b, ter_plus, ter_1, ter_0, ter_clsB])\n",
        "\n",
        "ch = 'Y'\n",
        "\n",
        "while ch == 'Y':\n",
        "  \n",
        "  # Input \n",
        "  string = input(\"Please Enter a String: \")\n",
        "  List = list(string)\n",
        "\n",
        "  # Checking Pattern\n",
        "  if(cfg.contains(List)):\n",
        "    print(\"It is accepted by the grammar\")\n",
        "\n",
        "  else:\n",
        "    print(\"It is not accepted by the grammar\")\n",
        "  \n",
        "  ch = input(\"Do you want to continue? (Y/N) :\")\n",
        "\n"
      ],
      "execution_count": 19,
      "outputs": [
        {
          "output_type": "stream",
          "text": [
            "Please Enter a String: a*(ab+10)\n",
            "It is accepted by the grammar\n"
          ],
          "name": "stdout"
        },
        {
          "output_type": "error",
          "ename": "NameError",
          "evalue": "ignored",
          "traceback": [
            "\u001b[0;31m---------------------------------------------------------------------------\u001b[0m",
            "\u001b[0;31mNameError\u001b[0m                                 Traceback (most recent call last)",
            "\u001b[0;32m<ipython-input-19-908e766f8c47>\u001b[0m in \u001b[0;36m<module>\u001b[0;34m()\u001b[0m\n\u001b[1;32m     47\u001b[0m     \u001b[0mprint\u001b[0m\u001b[0;34m(\u001b[0m\u001b[0;34m\"It is accepted by the grammar\"\u001b[0m\u001b[0;34m)\u001b[0m\u001b[0;34m\u001b[0m\u001b[0;34m\u001b[0m\u001b[0m\n\u001b[1;32m     48\u001b[0m \u001b[0;34m\u001b[0m\u001b[0m\n\u001b[0;32m---> 49\u001b[0;31m     \u001b[0mllone_parser\u001b[0m \u001b[0;34m=\u001b[0m \u001b[0mLLOneParser\u001b[0m\u001b[0;34m(\u001b[0m\u001b[0mcfg\u001b[0m\u001b[0;34m)\u001b[0m\u001b[0;34m\u001b[0m\u001b[0;34m\u001b[0m\u001b[0m\n\u001b[0m\u001b[1;32m     50\u001b[0m     \u001b[0mparse_tree\u001b[0m \u001b[0;34m=\u001b[0m \u001b[0mllone_parser\u001b[0m\u001b[0;34m.\u001b[0m\u001b[0mget_llone_parse_tree\u001b[0m\u001b[0;34m(\u001b[0m\u001b[0;34m[\u001b[0m\u001b[0mstring\u001b[0m\u001b[0;34m]\u001b[0m\u001b[0;34m)\u001b[0m\u001b[0;34m\u001b[0m\u001b[0;34m\u001b[0m\u001b[0m\n\u001b[1;32m     51\u001b[0m     \u001b[0mparse_tree\u001b[0m\u001b[0;34m.\u001b[0m\u001b[0mget_leftmost_derivation\u001b[0m\u001b[0;34m(\u001b[0m\u001b[0;34m)\u001b[0m\u001b[0;34m\u001b[0m\u001b[0;34m\u001b[0m\u001b[0m\n",
            "\u001b[0;31mNameError\u001b[0m: name 'LLOneParser' is not defined"
          ]
        }
      ]
    }
  ]
}